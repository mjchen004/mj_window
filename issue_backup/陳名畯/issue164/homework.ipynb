{
 "cells": [
  {
   "cell_type": "code",
   "execution_count": 10,
   "metadata": {},
   "outputs": [
    {
     "name": "stdout",
     "output_type": "stream",
     "text": [
      "{'name': 'Alice', 'age': 30, 'address': {'street': '123 Main St', 'city': 'Springfield', 'zipcode': '12345'}, 'projects': [{'name': 'Project A', 'status': 'completed'}, {'name': 'Project B', 'status': 'ongoing'}]}\n"
     ]
    }
   ],
   "source": [
    "from pydantic import BaseModel\n",
    "from typing import List\n",
    "\n",
    "data: str = '''{\n",
    "    \"name\": \"Alice\",\n",
    "    \"age\": 30,\n",
    "    \"address\": {\n",
    "        \"street\": \"123 Main St\",\n",
    "        \"city\": \"Springfield\",\n",
    "        \"zipcode\": \"12345\"\n",
    "    },\n",
    "    \"projects\": [\n",
    "        {\n",
    "            \"name\": \"Project A\",\n",
    "            \"status\": \"completed\"\n",
    "        },\n",
    "        {\n",
    "            \"name\": \"Project B\",\n",
    "            \"status\": \"ongoing\"\n",
    "        }\n",
    "    ]\n",
    "}\n",
    "'''\n",
    "\n",
    "class Dict_Info(BaseModel):\n",
    "    name: str\n",
    "    status: str\n",
    "\n",
    "class Address(BaseModel):\n",
    "    street: str\n",
    "    city: str\n",
    "    zipcode: str  \n",
    "\n",
    "class Person(BaseModel):\n",
    "    name: str\n",
    "    age: int\n",
    "    address: Address\n",
    "    projects: List[Dict_Info]\n",
    "\n",
    "# Parse the JSON data\n",
    "person = Person.model_validate_json(data)\n",
    "\n",
    "# Dump the model data to a dictionary\n",
    "dict_data = person.model_dump()\n",
    "print(dict_data)"
   ]
  },
  {
   "cell_type": "code",
   "execution_count": 11,
   "metadata": {},
   "outputs": [
    {
     "name": "stdout",
     "output_type": "stream",
     "text": [
      "name: Alice\n",
      "\n",
      "age: 30\n",
      "\n",
      "address:\n",
      "        street: 123 Main St\n",
      "          city: Springfield\n",
      "       zipcode: 12345\n",
      "\n",
      "projects:\n",
      "          name: Project A\n",
      "        status: completed\n",
      "\n",
      "          name: Project B\n",
      "        status: ongoing\n",
      "\n",
      "\n"
     ]
    }
   ],
   "source": [
    "def main():\n",
    "    for key, value in dict_data.items():\n",
    "        if isinstance(value, dict):\n",
    "            print(f\"{key}:\")\n",
    "            for sub_key, sub_value in value.items():\n",
    "                print(f\"  {sub_key:>12}: {sub_value}\")\n",
    "        elif isinstance(value, list):\n",
    "            print(f\"{key}:\")\n",
    "            for item in value:\n",
    "                for sub_key, sub_value in item.items():\n",
    "                    print(f\"  {sub_key:>12}: {sub_value}\")\n",
    "                print()\n",
    "        else:\n",
    "            print(f\"{key}: {value}\")\n",
    "        print()\n",
    "\n",
    "if __name__ == '__main__':\n",
    "    main()"
   ]
  }
 ],
 "metadata": {
  "kernelspec": {
   "display_name": "venv1",
   "language": "python",
   "name": "python3"
  },
  "language_info": {
   "codemirror_mode": {
    "name": "ipython",
    "version": 3
   },
   "file_extension": ".py",
   "mimetype": "text/x-python",
   "name": "python",
   "nbconvert_exporter": "python",
   "pygments_lexer": "ipython3",
   "version": "3.12.3"
  }
 },
 "nbformat": 4,
 "nbformat_minor": 2
}
