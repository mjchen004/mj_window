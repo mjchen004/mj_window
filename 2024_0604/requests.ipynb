{
 "cells": [
  {
   "cell_type": "code",
   "execution_count": null,
   "metadata": {},
   "outputs": [],
   "source": [
    "import requests\n",
    "from pprint import pprint # beautify output\n",
    "from requests import JSONDecodeError\n",
    "\n",
    "aqi_url = 'https://data.moenv.gov.tw/api/v2/aqx_p_488?api_key=e8dd42e6-9b8b-43f8-991e-b3dee723a52d&limit=1000&sort=datacreationdate desc&format=JSON'\n",
    "try:\n",
    "    response = requests.get(aqi_url)\n",
    "except Exception as error: \n",
    "    print(error)\n",
    "else:\n",
    "    if response.status_code == 200: \n",
    "        try: \n",
    "            all_data:dict[any] = response.json() # dictionary not string!!!\n",
    "            pprint(all_data)\n",
    "\n",
    "        except JSONDecodeError:\n",
    "            print(\"cannot decode text into json!\")\n",
    "    else:\n",
    "        print(\"Download failed\")\n",
    "\n",
    "\n"
   ]
  },
  {
   "cell_type": "code",
   "execution_count": 3,
   "metadata": {},
   "outputs": [],
   "source": [
    "# same code but uses FUNCTION() to make nested statements easier\n",
    "import requests\n",
    "from pprint import pprint # beautify output\n",
    "from requests import JSONDecodeError\n",
    "\n",
    "def download_json()->dict[any]:\n",
    "    \n",
    "    aqi_url = 'https://data.moenv.gov.tw/api/v2/aqx_p_488?api_key=e8dd42e6-9b8b-43f8-991e-b3dee723a52d&limit=1000&sort=datacreationdate desc&format=JSON'\n",
    "    try:\n",
    "        response = requests.get(aqi_url)\n",
    "    except Exception: \n",
    "        raise Exception(\"连线失败\")\n",
    "    else:\n",
    "        if response.status_code == 200: \n",
    "            try: \n",
    "                all_data:dict[any] = response.json() # dictionary not string!!!\n",
    "                return all_data\n",
    "\n",
    "            except JSONDecodeError:\n",
    "                raise Exception(\"cannot decode text into json!\")\n",
    "        else:\n",
    "            raise Exception(\"Download failed\")\n"
   ]
  },
  {
   "cell_type": "code",
   "execution_count": null,
   "metadata": {},
   "outputs": [],
   "source": [
    "try:\n",
    "    all_data:dict[any] = download_json()\n",
    "    pprint(all_data['records'])\n",
    "except Exception as error:\n",
    "    print(error)"
   ]
  },
  {
   "cell_type": "code",
   "execution_count": 5,
   "metadata": {},
   "outputs": [],
   "source": [
    "from pydantic import BaseModel,RootModel,Field,field_validator  #basemodel -> dictionary | rootmodel -> list\n",
    "\n",
    "class Site(BaseModel):\n",
    "    site_name:str = Field(alias='sitename')\n",
    "    county:str\n",
    "    aqi:int\n",
    "    status:str\n",
    "    pm25:float = Field(alias='pm2.5')\n",
    "    date:str = Field(alias='datacreationdate')\n",
    "\n",
    "    @field_validator(\"pm25\",mode='before')\n",
    "    @classmethod\n",
    "    def abc(cls, value:str)->str:\n",
    "        if value==\"\":\n",
    "            return \"0.0\"\n",
    "        else:\n",
    "            return value\n",
    "\n",
    "class Records(RootModel):\n",
    "    root:list[Site]\n",
    "\n",
    "records:Records = Records.model_validate(all_data['records'])  #python 资料结构 |  validate_json json 资料结构\n",
    "\n",
    "data = records.model_dump()"
   ]
  },
  {
   "cell_type": "code",
   "execution_count": null,
   "metadata": {},
   "outputs": [],
   "source": [
    "data"
   ]
  }
 ],
 "metadata": {
  "kernelspec": {
   "display_name": "venv1",
   "language": "python",
   "name": "python3"
  },
  "language_info": {
   "codemirror_mode": {
    "name": "ipython",
    "version": 3
   },
   "file_extension": ".py",
   "mimetype": "text/x-python",
   "name": "python",
   "nbconvert_exporter": "python",
   "pygments_lexer": "ipython3",
   "version": "3.12.3"
  }
 },
 "nbformat": 4,
 "nbformat_minor": 2
}
