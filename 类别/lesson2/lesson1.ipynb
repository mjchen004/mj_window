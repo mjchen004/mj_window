{
 "cells": [
  {
   "cell_type": "code",
   "execution_count": 2,
   "metadata": {},
   "outputs": [],
   "source": [
    "# pip install requests = to install request package from internet\n",
    "import requests\n",
    "from requests import Response\n",
    "\n",
    "url = \"https://data.moenv.gov.tw/api/v2/aqx_p_488?api_key=e8dd42e6-9b8b-43f8-991e-b3dee723a52d&limit=1000&sort=datacreationdate desc&format=CSV\"\n",
    "requests.get(url)\n",
    "res:Response = requests.get(url=url)\n"
   ]
  },
  {
   "cell_type": "code",
   "execution_count": 3,
   "metadata": {},
   "outputs": [],
   "source": [
    "if res.ok:\n",
    "    content:str = res.text\n",
    "else: \n",
    "    print(\"failed\")"
   ]
  },
  {
   "cell_type": "code",
   "execution_count": 4,
   "metadata": {},
   "outputs": [],
   "source": [
    "from io import StringIO\n",
    "import csv\n",
    "from csv import DictReader\n",
    "\n",
    "file:StringIO = StringIO(initial_value=content)\n",
    "type(file)\n",
    "\n",
    "reader:DictReader = csv.DictReader(file)\n",
    "list_reader = list(reader)\n",
    "fields = list_reader[0].keys()"
   ]
  },
  {
   "cell_type": "code",
   "execution_count": 5,
   "metadata": {},
   "outputs": [],
   "source": [
    "from io import StringIO\n",
    "import csv\n",
    "from csv import DictWriter\n",
    "\n",
    "with open('aqi.csv', 'w', newline='') as csvfile:\n",
    "    file:StringIO = StringIO(initial_value=content)\n",
    "    writer:DictWriter = DictWriter(csvfile,fieldnames=fields)\n",
    "    writer.writeheader()\n",
    "    writer.writerows(list_reader)"
   ]
  }
 ],
 "metadata": {
  "kernelspec": {
   "display_name": "venv1",
   "language": "python",
   "name": "python3"
  },
  "language_info": {
   "codemirror_mode": {
    "name": "ipython",
    "version": 3
   },
   "file_extension": ".py",
   "mimetype": "text/x-python",
   "name": "python",
   "nbconvert_exporter": "python",
   "pygments_lexer": "ipython3",
   "version": "3.12.3"
  }
 },
 "nbformat": 4,
 "nbformat_minor": 2
}
