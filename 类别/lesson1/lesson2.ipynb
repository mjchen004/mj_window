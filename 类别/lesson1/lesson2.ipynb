{
 "cells": [
  {
   "cell_type": "code",
   "execution_count": 64,
   "metadata": {},
   "outputs": [
    {
     "name": "stdout",
     "output_type": "stream",
     "text": [
      "<class '__main__.Person'>\n",
      "p1.name = ChenMJ\n",
      "p2.name = 陈名畯\n"
     ]
    }
   ],
   "source": [
    "class Person():\n",
    "    def __init__(self,n:str):\n",
    "       self.name = n\n",
    "\n",
    "    def __repr__(self):\n",
    "        return f\"我是person的实体，我的名字是:{self.name}\"\n",
    "       \n",
    "\n",
    "p1:Person = Person(\"ChenMJ\")    #Create an instance \n",
    "print(type(p1))\n",
    "print(f\"p1.name = {p1.name}\")\n",
    "\n",
    "p2:Person = Person(\"陈名畯\")    #Create another instance \n",
    "p2.name\n",
    "print(f\"p2.name = {p2.name}\")"
   ]
  },
  {
   "cell_type": "code",
   "execution_count": 65,
   "metadata": {},
   "outputs": [
    {
     "name": "stdout",
     "output_type": "stream",
     "text": [
      "ChenMJ\n",
      "陈名畯\n"
     ]
    }
   ],
   "source": [
    "class Student(Person):\n",
    "    def __init__(self,name:str,chinese:int,english:int,math:int):\n",
    "        super().__init__(n=name)\n",
    "\n",
    "        self.__chinese = chinese\n",
    "        self.__english = english\n",
    "        self.__math = math\n",
    "\n",
    "    @property\n",
    "    def chinese(self):\n",
    "        return self.__chinese\n",
    "    @property\n",
    "    def english(self):\n",
    "        return self.__english\n",
    "    @property\n",
    "    def math(self):\n",
    "        return self.__math\n",
    "    @property\n",
    "    def scores(self):\n",
    "        return self.__chinese + self.__english + self.__math\n",
    "    \n",
    "    # method to calculate avg\n",
    "    def average(self): \n",
    "        return self.scores / 3\n",
    "\n",
    "    def __repr__(self):\n",
    "        message = f\"我是student的实体，我的名字是:{self.name}\\n\"\n",
    "        message += f\"国文分数:{self.chinese}\\n\"\n",
    "        message += f\"英文分数:{self.english}\\n\"\n",
    "        message += f\"数学分数:{self.math}\\n\"   \n",
    "        return message \n",
    "    \n",
    "\n",
    "s1:Student = Student(name=\"ChenMJ\",chinese=90,english=80,math=70)\n",
    "print(s1.name)\n",
    "\n",
    "\n",
    "s2:Student = Student(name=\"陈名畯\",math=88,english=99,chinese=85)\n",
    "print(s2.name)\n"
   ]
  },
  {
   "cell_type": "code",
   "execution_count": 66,
   "metadata": {},
   "outputs": [
    {
     "name": "stdout",
     "output_type": "stream",
     "text": [
      "我是student的实体，我的名字是:ChenMJ\n",
      "国文分数:90\n",
      "英文分数:80\n",
      "数学分数:70\n",
      "\n",
      "总分:240\n",
      "平均:80.0\n"
     ]
    }
   ],
   "source": [
    "print(s1)\n",
    "print(f\"总分:{s1.scores}\") # property\n",
    "print(f\"平均:{s1.average()}\") # method\n"
   ]
  }
 ],
 "metadata": {
  "kernelspec": {
   "display_name": "venv1",
   "language": "python",
   "name": "python3"
  },
  "language_info": {
   "codemirror_mode": {
    "name": "ipython",
    "version": 3
   },
   "file_extension": ".py",
   "mimetype": "text/x-python",
   "name": "python",
   "nbconvert_exporter": "python",
   "pygments_lexer": "ipython3",
   "version": "3.12.3"
  }
 },
 "nbformat": 4,
 "nbformat_minor": 2
}
