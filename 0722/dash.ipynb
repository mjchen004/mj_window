{
 "cells": [
  {
   "cell_type": "code",
   "execution_count": null,
   "metadata": {},
   "outputs": [],
   "source": [
    "from dash import Dash,dcc,html,Input,Output,callback\n",
    "\n",
    "app = Dash(__name__)\n",
    "\n",
    "app.layout = html.Div(\n",
    "    [\n",
    "        html.H6(\"text frijfwirfriwjfiwfjiwfj\"),\n",
    "        html.Div(\n",
    "            [\n",
    "                \"Input:\",\n",
    "                dcc.Input(id='my_input',value='initial value',type='text')\n",
    "            ]\n",
    "        ),\n",
    "        html.Br(),\n",
    "        html.Div(id='my_output')\n",
    "    ]\n",
    ")\n",
    "\n",
    "@callback(\n",
    "        Output(component_id='my_output',component_property='children'),\n",
    "        Input(component_id='my_input',component_property='value')\n",
    ")\n",
    "\n",
    "def update_output(input_value:str) -> str:\n",
    "    return f'Output:{input_value}'\n",
    "app.run(debug=True)"
   ]
  },
  {
   "cell_type": "code",
   "execution_count": 4,
   "metadata": {},
   "outputs": [],
   "source": [
    "from dash import Dash,dcc,html,Input,Output,callback\n",
    "import pandas as pd\n",
    "\n",
    "df = pd.read_csv('https://raw.githubusercontent.com/plotly/datasets/master/gapminderDataFiveYear.csv')\n",
    "app = Dash(__name__)"
   ]
  },
  {
   "cell_type": "code",
   "execution_count": 1,
   "metadata": {},
   "outputs": [
    {
     "ename": "NameError",
     "evalue": "name 'df' is not defined",
     "output_type": "error",
     "traceback": [
      "\u001b[0;31m---------------------------------------------------------------------------\u001b[0m",
      "\u001b[0;31mNameError\u001b[0m                                 Traceback (most recent call last)",
      "Cell \u001b[0;32mIn[1], line 1\u001b[0m\n\u001b[0;32m----> 1\u001b[0m display(\u001b[43mdf\u001b[49m)\n\u001b[1;32m      3\u001b[0m \u001b[38;5;28mint\u001b[39m(df[\u001b[38;5;124m'\u001b[39m\u001b[38;5;124myear\u001b[39m\u001b[38;5;124m'\u001b[39m]\u001b[38;5;241m.\u001b[39mmin())\n\u001b[1;32m      4\u001b[0m \u001b[38;5;28mint\u001b[39m(df[\u001b[38;5;124m'\u001b[39m\u001b[38;5;124myear\u001b[39m\u001b[38;5;124m'\u001b[39m]\u001b[38;5;241m.\u001b[39mmax())\n",
      "\u001b[0;31mNameError\u001b[0m: name 'df' is not defined"
     ]
    }
   ],
   "source": [
    "display(df)\n",
    "\n",
    "int(df['year'].min())\n",
    "int(df['year'].max())\n",
    "df['year'].unique()\n",
    "{str(year):str(year) for year in df['year'].unique()} #dictionary comprehension\n",
    "display(df[df.year == 1952])"
   ]
  },
  {
   "cell_type": "code",
   "execution_count": 2,
   "metadata": {},
   "outputs": [
    {
     "data": {
      "text/html": [
       "\n",
       "        <iframe\n",
       "            width=\"100%\"\n",
       "            height=\"650\"\n",
       "            src=\"http://127.0.0.1:8050/\"\n",
       "            frameborder=\"0\"\n",
       "            allowfullscreen\n",
       "            \n",
       "        ></iframe>\n",
       "        "
      ],
      "text/plain": [
       "<IPython.lib.display.IFrame at 0x106e00510>"
      ]
     },
     "metadata": {},
     "output_type": "display_data"
    }
   ],
   "source": [
    "from dash import Dash,dcc,html,Input,Output,callback\n",
    "import pandas as pd\n",
    "import plotly.express as px\n",
    "\n",
    "df = pd.read_csv('https://raw.githubusercontent.com/plotly/datasets/master/gapminderDataFiveYear.csv')\n",
    "app = Dash(__name__)\n",
    "\n",
    "app.layout = html.Div(\n",
    "    [\n",
    "        dcc.Graph(id=\"graph_with_slider\"),\n",
    "        dcc.Slider(\n",
    "            min = df['year'].min(),\n",
    "            max = df['year'].max(),\n",
    "            step=None,\n",
    "            value = df['year'].min(),\n",
    "            marks = {str(year):str(year) for year in df['year'].unique()},\n",
    "            id='year_slider'\n",
    "        )\n",
    "    ]\n",
    ")\n",
    "\n",
    "@callback(\n",
    "        Output('graph_with_slider','figure'),\n",
    "        Input('year_slider','value')\n",
    ")\n",
    "def update_figure(selected_year:int):\n",
    "    filtered_df = df[df.year == selected_year]\n",
    "    fig = px.scatter(\n",
    "        data_frame = filtered_df,\n",
    "        x = 'gdpPercap',\n",
    "        y = 'lifeExp',\n",
    "        size='pop',\n",
    "        color='continent',\n",
    "        hover_name='country',\n",
    "        log_x = True,\n",
    "        size_max = 55\n",
    "    )\n",
    "    fig.update_layout(transition_duration=5000)\n",
    "    return fig\n",
    "\n",
    "app.run(debug=True)"
   ]
  }
 ],
 "metadata": {
  "kernelspec": {
   "display_name": "venv2",
   "language": "python",
   "name": "python3"
  },
  "language_info": {
   "codemirror_mode": {
    "name": "ipython",
    "version": 3
   },
   "file_extension": ".py",
   "mimetype": "text/x-python",
   "name": "python",
   "nbconvert_exporter": "python",
   "pygments_lexer": "ipython3",
   "version": "3.11.9"
  }
 },
 "nbformat": 4,
 "nbformat_minor": 2
}
