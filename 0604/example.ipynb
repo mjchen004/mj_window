{
 "cells": [
  {
   "cell_type": "code",
   "execution_count": null,
   "metadata": {},
   "outputs": [],
   "source": [
    "# step 1 read the file content\n",
    "with open(\"data.json\", encoding=\"utf-8\") as file:\n",
    "    content:str = file.read()\n",
    "print(content)"
   ]
  },
  {
   "cell_type": "code",
   "execution_count": null,
   "metadata": {},
   "outputs": [],
   "source": [
    "# step 2 create class based on how many dictionary\n",
    "from pydantic import BaseModel\n",
    "\n",
    "class Project(BaseModel):\n",
    "    name: str\n",
    "    status: str\n",
    "\n",
    "class Address(BaseModel):\n",
    "    street: str\n",
    "    city: str\n",
    "    zipcode: str \n",
    "\n",
    "class Person(BaseModel):\n",
    "    name: str \n",
    "    age: int\n",
    "    address:Address\n",
    "    projects:list[Project]\n",
    "\n",
    "# validate json data\n",
    "p1 = Person.model_validate_json(content)\n",
    "print(p1)\n",
    "\n",
    "# calls the specific attribute inside the dict\n",
    "p1.projects[0].name\n"
   ]
  },
  {
   "cell_type": "code",
   "execution_count": null,
   "metadata": {},
   "outputs": [],
   "source": [
    "# step 3 convert \n",
    "data = p1.model_dump()\n",
    "data\n",
    "\n",
    "# not a string it is a python dictionary\n",
    "type(data)"
   ]
  }
 ],
 "metadata": {
  "kernelspec": {
   "display_name": "venv1",
   "language": "python",
   "name": "python3"
  },
  "language_info": {
   "codemirror_mode": {
    "name": "ipython",
    "version": 3
   },
   "file_extension": ".py",
   "mimetype": "text/x-python",
   "name": "python",
   "nbconvert_exporter": "python",
   "pygments_lexer": "ipython3",
   "version": "3.12.3"
  }
 },
 "nbformat": 4,
 "nbformat_minor": 2
}
