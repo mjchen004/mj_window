{
 "cells": [
  {
   "cell_type": "code",
   "execution_count": 2,
   "metadata": {},
   "outputs": [
    {
     "data": {
      "text/plain": [
       "[['mj', 88, 99, 77], ['ivan', 67, 76, 87], ['alex', 66, 76, 56]]"
      ]
     },
     "execution_count": 2,
     "metadata": {},
     "output_type": "execute_result"
    }
   ],
   "source": [
    "students:list[list]= [\n",
    "                       ['mj',88,99,77],\n",
    "                       ['ivan',67,76,87],\n",
    "                       ['alex',66,76,56]\n",
    "                     ]\n",
    "students"
   ]
  },
  {
   "cell_type": "code",
   "execution_count": 1,
   "metadata": {},
   "outputs": [
    {
     "data": {
      "text/plain": [
       "[{'name': 'mj', 'chinese': 88, 'english': 90, 'math': 100},\n",
       " {'name': 'ivan', 'chinese': 80, 'english': 70, 'math': 70},\n",
       " {'name': 'alex', 'chinese': 78, 'english': 98, 'math': 60}]"
      ]
     },
     "execution_count": 1,
     "metadata": {},
     "output_type": "execute_result"
    }
   ],
   "source": [
    "students:list[dict] = [\n",
    "    {'name':'mj','chinese':88,'english':90,'math':100},\n",
    "    {'name':'ivan','chinese':80,'english':70,'math':70},\n",
    "    {'name':'alex','chinese':78,'english':98,'math':60}\n",
    "]\n",
    "students"
   ]
  }
 ],
 "metadata": {
  "kernelspec": {
   "display_name": "venv1",
   "language": "python",
   "name": "python3"
  },
  "language_info": {
   "codemirror_mode": {
    "name": "ipython",
    "version": 3
   },
   "file_extension": ".py",
   "mimetype": "text/x-python",
   "name": "python",
   "nbconvert_exporter": "python",
   "pygments_lexer": "ipython3",
   "version": "3.12.3"
  }
 },
 "nbformat": 4,
 "nbformat_minor": 2
}
