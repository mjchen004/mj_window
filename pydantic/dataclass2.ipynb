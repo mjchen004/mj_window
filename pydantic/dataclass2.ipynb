{
 "cells": [
  {
   "cell_type": "code",
   "execution_count": 1,
   "metadata": {},
   "outputs": [],
   "source": [
    "#dataclass\n",
    "\n",
    "from dataclasses import dataclass\n",
    "\n",
    "@dataclass\n",
    "class InventoryItem: \n",
    "    \"\"\" class for keeping track of an item in inventory. \"\"\"\n",
    "    name: str\n",
    "    unit_price: float \n",
    "    quantity_on_hand: int = 0"
   ]
  },
  {
   "cell_type": "code",
   "execution_count": 3,
   "metadata": {},
   "outputs": [
    {
     "name": "stdout",
     "output_type": "stream",
     "text": [
      "InventoryItem(name='手机壳', unit_price=150.5, quantity_on_hand=0)\n",
      "手机壳\n",
      "150.5\n",
      "0\n"
     ]
    }
   ],
   "source": [
    "item1 = InventoryItem(name=\"手机壳\",unit_price=150.5)\n",
    "print(item1)\n",
    "print(item1.name)\n",
    "print(item1.unit_price)\n",
    "print(item1.quantity_on_hand)"
   ]
  }
 ],
 "metadata": {
  "kernelspec": {
   "display_name": "venv1",
   "language": "python",
   "name": "python3"
  },
  "language_info": {
   "codemirror_mode": {
    "name": "ipython",
    "version": 3
   },
   "file_extension": ".py",
   "mimetype": "text/x-python",
   "name": "python",
   "nbconvert_exporter": "python",
   "pygments_lexer": "ipython3",
   "version": "3.12.3"
  }
 },
 "nbformat": 4,
 "nbformat_minor": 2
}
