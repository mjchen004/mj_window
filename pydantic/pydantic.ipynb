{
 "cells": [
  {
   "cell_type": "code",
   "execution_count": 7,
   "metadata": {},
   "outputs": [],
   "source": [
    "from pydantic import BaseModel\n",
    "\n",
    "class InventoryItem(BaseModel): \n",
    "    \"\"\" class for keeping track of an item in inventory. \"\"\"\n",
    "    name: str\n",
    "    unit_price: float \n",
    "    quantity_on_hand: int = 0"
   ]
  },
  {
   "cell_type": "code",
   "execution_count": 11,
   "metadata": {},
   "outputs": [
    {
     "name": "stdout",
     "output_type": "stream",
     "text": [
      "name='手机壳' unit_price=150.5 quantity_on_hand=100\n"
     ]
    },
    {
     "data": {
      "text/plain": [
       "('手机壳', 150.5, 100)"
      ]
     },
     "execution_count": 11,
     "metadata": {},
     "output_type": "execute_result"
    }
   ],
   "source": [
    "#unit_price的字串，自动转为float\n",
    "item1 = InventoryItem(name=\"手机壳\",unit_price=150.5,quantity_on_hand=100)\n",
    "print(item1)\n",
    "\n",
    "item1.name, item1.unit_price, item1.quantity_on_hand"
   ]
  },
  {
   "cell_type": "code",
   "execution_count": null,
   "metadata": {},
   "outputs": [],
   "source": [
    "#unit_price的字串，自动转为int失败，需要手动转 (raise ValidationError)\n",
    "from pydantic import ValidationError\n",
    "try: \n",
    "    item1 = InventoryItem(name=\"手机壳\",unit_price='150.5',quantity_on_hand='15.5')\n",
    "    print(item1)\n",
    "except ValidationError as e: \n",
    "    print(e)\n"
   ]
  },
  {
   "cell_type": "code",
   "execution_count": 9,
   "metadata": {},
   "outputs": [
    {
     "name": "stdout",
     "output_type": "stream",
     "text": [
      "name='手机壳' unit_price=150.5 quantity_on_hand=15\n"
     ]
    }
   ],
   "source": [
    "#unit_price的字串，自动转为int\n",
    "from pydantic import ValidationError\n",
    "try: \n",
    "    item1 = InventoryItem(name=\"手机壳\",unit_price='150.5',quantity_on_hand='15')\n",
    "    print(item1)\n",
    "except ValidationError as e: \n",
    "    print(e)\n"
   ]
  },
  {
   "cell_type": "code",
   "execution_count": null,
   "metadata": {},
   "outputs": [],
   "source": [
    "#使用classmethod建立实体\n",
    "#model_validate(dict)\n",
    "#model_validate_json(json格式的文字)\n"
   ]
  },
  {
   "cell_type": "code",
   "execution_count": null,
   "metadata": {},
   "outputs": [
    {
     "name": "stdout",
     "output_type": "stream",
     "text": [
      "name='📱壳' unit_price=150.5 quantity_on_hand=15\n"
     ]
    }
   ],
   "source": [
    "data:dict = {\n",
    "    \"name\":\"📱壳\",\n",
    "    \"unit_price\":150.5,\n",
    "    \"quantity_on_hand\":15\n",
    "}\n",
    "try:\n",
    "    item2 = InventoryItem.model_validate(data)\n",
    "except ValidationError as e:\n",
    "    print(e)\n",
    "else:\n",
    "    print(item2)"
   ]
  },
  {
   "cell_type": "code",
   "execution_count": 3,
   "metadata": {},
   "outputs": [
    {
     "name": "stdout",
     "output_type": "stream",
     "text": [
      "name='📱壳' unit_price=150.5 quantity_on_hand=15\n"
     ]
    }
   ],
   "source": [
    "class InventoryItem(BaseModel): \n",
    "    \"\"\" class for keeping track of an item in inventory. \"\"\"\n",
    "    name: str\n",
    "    unit_price: float \n",
    "    quantity_on_hand: int = 0 \n",
    "\n",
    "data_json:str = '''\n",
    "{\n",
    "    \"name\":\"📱壳\",\n",
    "    \"unit_price\":150.5,\n",
    "    \"quantity_on_hand\":15\n",
    "}\n",
    "'''\n",
    "try:\n",
    "    item3 = InventoryItem.model_validate_json(data_json)\n",
    "except ValidationError as e:\n",
    "    print(e)\n",
    "else:\n",
    "    print(item3)"
   ]
  },
  {
   "cell_type": "code",
   "execution_count": 30,
   "metadata": {},
   "outputs": [
    {
     "name": "stdout",
     "output_type": "stream",
     "text": [
      "name='📱壳' unit_price=150.5 quantity_on_hand=0\n"
     ]
    }
   ],
   "source": [
    "class InventoryItem(BaseModel): \n",
    "    \"\"\" class for keeping track of an item in inventory. \"\"\"\n",
    "    name: str\n",
    "    unit_price: float \n",
    "    quantity_on_hand: int = 0 #optional\n",
    "\n",
    "data_json:str = '''\n",
    "{\n",
    "    \"name\":\"📱壳\",\n",
    "    \"unit_price\":150.5\n",
    "}\n",
    "'''\n",
    "item4 = InventoryItem.model_validate_json(data_json)\n",
    "print(item4)\n"
   ]
  },
  {
   "cell_type": "code",
   "execution_count": 31,
   "metadata": {},
   "outputs": [
    {
     "name": "stdout",
     "output_type": "stream",
     "text": [
      "name='📱壳' unit_price=150.5 quantity_on_hand=None\n"
     ]
    }
   ],
   "source": [
    "class InventoryItem(BaseModel): \n",
    "    \"\"\" class for keeping track of an item in inventory. \"\"\"\n",
    "    name: str\n",
    "    unit_price: float \n",
    "    quantity_on_hand: int | None = None #optional\n",
    "\n",
    "data_json:str = '''\n",
    "{\n",
    "    \"name\":\"📱壳\",\n",
    "    \"unit_price\":150.5\n",
    "}\n",
    "'''\n",
    "item5 = InventoryItem.model_validate_json(data_json)\n",
    "print(item5)\n"
   ]
  }
 ],
 "metadata": {
  "kernelspec": {
   "display_name": "venv1",
   "language": "python",
   "name": "python3"
  },
  "language_info": {
   "codemirror_mode": {
    "name": "ipython",
    "version": 3
   },
   "file_extension": ".py",
   "mimetype": "text/x-python",
   "name": "python",
   "nbconvert_exporter": "python",
   "pygments_lexer": "ipython3",
   "version": "3.12.3"
  }
 },
 "nbformat": 4,
 "nbformat_minor": 2
}
