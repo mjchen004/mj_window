{
 "cells": [
  {
   "cell_type": "code",
   "execution_count": 5,
   "metadata": {},
   "outputs": [
    {
     "name": "stdout",
     "output_type": "stream",
     "text": [
      "myname:妹妹\n",
      "myage:18\n",
      "\n"
     ]
    }
   ],
   "source": [
    "class Person():\n",
    "    def __init__(self,name:str,age:int):\n",
    "        self.__name = name\n",
    "        self.age = age\n",
    "\n",
    "    def __repr__(self):\n",
    "        message = ''\n",
    "        message += f\"myname:{self.name}\\n\"\n",
    "        message += f\"myage:{self.age}\\n\"\n",
    "        return message\n",
    "    @property\n",
    "    def name(self)->str:\n",
    "        return self.__name \n",
    "    \n",
    "p1:Person = Person(age=25,name=\"妹妹\") \n",
    "p1.age = \"18\"\n",
    "print(p1)"
   ]
  },
  {
   "cell_type": "code",
   "execution_count": 11,
   "metadata": {},
   "outputs": [
    {
     "name": "stdout",
     "output_type": "stream",
     "text": [
      "pass\n",
      "pass\n"
     ]
    }
   ],
   "source": [
    "class Student(Person):\n",
    "\n",
    "    @classmethod\n",
    "    def get_student(cls,name:str,age:int,scores:int): \n",
    "        return Student(n=name, a=age, s=scores)\n",
    "\n",
    "    def __init__(self,n:str,a:int,s:int):\n",
    "        super().__init__(n,a)\n",
    "        self.s = s\n",
    "    \n",
    "    def get_level(self)->str:\n",
    "        if self.s >=60: \n",
    "            return \"pass\"\n",
    "        else: \n",
    "            return \"fail\"\n",
    "\n",
    "#透过init建立       \n",
    "s1 = Student(\"chenmj\",a=16,s=100)\n",
    "print(s1.get_level())\n",
    "\n",
    "#透过classmethod建立实体\n",
    "s2 = Student.get_student(\"amanda\",20,88)\n",
    "print(s2.get_level())"
   ]
  }
 ],
 "metadata": {
  "kernelspec": {
   "display_name": "venv1",
   "language": "python",
   "name": "python3"
  },
  "language_info": {
   "codemirror_mode": {
    "name": "ipython",
    "version": 3
   },
   "file_extension": ".py",
   "mimetype": "text/x-python",
   "name": "python",
   "nbconvert_exporter": "python",
   "pygments_lexer": "ipython3",
   "version": "3.12.3"
  }
 },
 "nbformat": 4,
 "nbformat_minor": 2
}
